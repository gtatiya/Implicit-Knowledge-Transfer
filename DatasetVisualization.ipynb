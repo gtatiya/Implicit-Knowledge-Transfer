{
 "cells": [
  {
   "cell_type": "code",
   "execution_count": 1,
   "metadata": {},
   "outputs": [],
   "source": [
    "import os, pickle\n",
    "\n",
    "import numpy as np\n",
    "import matplotlib.pyplot as plt\n",
    "from mpl_toolkits.axes_grid1 import make_axes_locatable\n",
    "\n",
    "from constants import get_objects_labels"
   ]
  },
  {
   "cell_type": "code",
   "execution_count": 2,
   "metadata": {},
   "outputs": [],
   "source": [
    "def print_discretized_data(data, x_values, y_values, robot, modality, behavior, object_name, save_plot=False):\n",
    "    \"\"\"\n",
    "    prints the data point and save it\n",
    "\n",
    "    :param data: one data point\n",
    "    :param x_values: temporal bins\n",
    "    :param y_values:\n",
    "    :param modality:\n",
    "    :param behavior:\n",
    "    :param file_path:\n",
    "\n",
    "    :return:\n",
    "    \"\"\"\n",
    "    \n",
    "    data = data.reshape(x_values, y_values)\n",
    "\n",
    "    title = robot+\"-\"+behavior.capitalize()+\"-\"+modality.capitalize()+\" Features\\n(\" + object_name + \")\"\n",
    "    plt.title(title, fontsize=16)\n",
    "    plt.xlabel(\"Temporal Bins\", fontsize=16)\n",
    "\n",
    "    if modality in ['effort']:\n",
    "        im = plt.imshow(data.T, cmap=\"GnBu\")\n",
    "        y_label = \"Joints\"\n",
    "    elif modality in ['force']:\n",
    "        im = plt.imshow(data.T, cmap=\"GnBu\")\n",
    "        y_label = \"Axis\"\n",
    "    elif modality == 'audio':\n",
    "        im = plt.imshow(np.flipud(data.T), cmap=\"GnBu\")\n",
    "        y_label = \"Frequency Bins\"\n",
    "    else:\n",
    "        y_label = \"\"\n",
    "    plt.ylabel(y_label, fontsize=16)\n",
    "\n",
    "    ax = plt.gca()\n",
    "    ax.set_xticks(np.arange(0, x_values, 1))\n",
    "    ax.set_xticklabels(np.arange(1, x_values + 1, 1))\n",
    "    if modality in ['force']:\n",
    "        axis = ['x', 'y', 'z']\n",
    "        ax.set_yticks(np.arange(0, len(axis), 1))\n",
    "        ax.set_yticklabels(axis)\n",
    "    else:\n",
    "        ax.set_yticks(np.arange(0, y_values, 1))\n",
    "        ax.set_yticklabels(np.arange(1, y_values + 1, 1))\n",
    "    \n",
    "    # Colorbar with same height as the plot\n",
    "    divider = make_axes_locatable(ax)\n",
    "    cax = divider.append_axes(\"right\", size=\"3%\", pad=0.1)\n",
    "    plt.colorbar(im, cax=cax)\n",
    "    \n",
    "    if save_plot:\n",
    "        file_path = \"figs\"+os.sep+robot+\"_\"+behavior+\"_\"+modality+\"_\"+object_name+\".png\"\n",
    "        os.makedirs(\"figs\", exist_ok=True)\n",
    "        plt.savefig(file_path, bbox_inches='tight', dpi=100)\n",
    "\n",
    "    plt.show()\n",
    "    plt.close()"
   ]
  },
  {
   "cell_type": "code",
   "execution_count": 3,
   "metadata": {},
   "outputs": [],
   "source": [
    "ROBOTS_PATH = {\"Baxter\": r\"data/Baxter_Dataset/3_Binary\", \"UR5\": r\"data/UR5_Dataset/3_Binary\"}\n",
    "robot_name = \"UR5\"\n",
    "robots_data_filepath = ROBOTS_PATH[robot_name] + os.sep + \"dataset_discretized.bin\"\n",
    "\n",
    "bin_file = open(robots_data_filepath, \"rb\")\n",
    "robot = pickle.load(bin_file)\n",
    "bin_file.close()"
   ]
  },
  {
   "cell_type": "code",
   "execution_count": 4,
   "metadata": {},
   "outputs": [
    {
     "name": "stdout",
     "output_type": "stream",
     "text": [
      "objects_labels:  95 {'blue-buttons-100g': 0, 'blue-buttons-150g': 1, 'blue-buttons-50g': 2, 'blue-dices-100g': 3, 'blue-dices-150g': 4, 'blue-dices-50g': 5, 'blue-empty-22g': 6, 'blue-marbles-100g': 7, 'blue-marbles-150g': 8, 'blue-marbles-50g': 9, 'blue-nutsandbolts-100g': 10, 'blue-nutsandbolts-150g': 11, 'blue-nutsandbolts-50g': 12, 'blue-pasta-100g': 13, 'blue-pasta-150g': 14, 'blue-pasta-50g': 15, 'blue-rice-100g': 16, 'blue-rice-150g': 17, 'blue-rice-50g': 18, 'green-buttons-100g': 19, 'green-buttons-150g': 20, 'green-buttons-50g': 21, 'green-dices-100g': 22, 'green-dices-150g': 23, 'green-dices-50g': 24, 'green-empty-22g': 25, 'green-marbles-100g': 26, 'green-marbles-150g': 27, 'green-marbles-50g': 28, 'green-nutsandbolts-100g': 29, 'green-nutsandbolts-150g': 30, 'green-nutsandbolts-50g': 31, 'green-pasta-100g': 32, 'green-pasta-150g': 33, 'green-pasta-50g': 34, 'green-rice-100g': 35, 'green-rice-150g': 36, 'green-rice-50g': 37, 'red-buttons-100g': 38, 'red-buttons-150g': 39, 'red-buttons-50g': 40, 'red-dices-100g': 41, 'red-dices-150g': 42, 'red-dices-50g': 43, 'red-empty-22g': 44, 'red-marbles-100g': 45, 'red-marbles-150g': 46, 'red-marbles-50g': 47, 'red-nutsandbolts-100g': 48, 'red-nutsandbolts-150g': 49, 'red-nutsandbolts-50g': 50, 'red-pasta-100g': 51, 'red-pasta-150g': 52, 'red-pasta-50g': 53, 'red-rice-100g': 54, 'red-rice-150g': 55, 'red-rice-50g': 56, 'white-buttons-100g': 57, 'white-buttons-150g': 58, 'white-buttons-50g': 59, 'white-dices-100g': 60, 'white-dices-150g': 61, 'white-dices-50g': 62, 'white-empty-22g': 63, 'white-marbles-100g': 64, 'white-marbles-150g': 65, 'white-marbles-50g': 66, 'white-nutsandbolts-100g': 67, 'white-nutsandbolts-150g': 68, 'white-nutsandbolts-50g': 69, 'white-pasta-100g': 70, 'white-pasta-150g': 71, 'white-pasta-50g': 72, 'white-rice-100g': 73, 'white-rice-150g': 74, 'white-rice-50g': 75, 'yellow-buttons-100g': 76, 'yellow-buttons-150g': 77, 'yellow-buttons-50g': 78, 'yellow-dices-100g': 79, 'yellow-dices-150g': 80, 'yellow-dices-50g': 81, 'yellow-empty-22g': 82, 'yellow-marbles-100g': 83, 'yellow-marbles-150g': 84, 'yellow-marbles-50g': 85, 'yellow-nutsandbolts-100g': 86, 'yellow-nutsandbolts-150g': 87, 'yellow-nutsandbolts-50g': 88, 'yellow-pasta-100g': 89, 'yellow-pasta-150g': 90, 'yellow-pasta-50g': 91, 'yellow-rice-100g': 92, 'yellow-rice-150g': 93, 'yellow-rice-50g': 94}\n"
     ]
    }
   ],
   "source": [
    "dataset_path = r\"data/UR5_Dataset/3_Binary\"\n",
    "db_file_name = dataset_path + os.sep + \"dataset_metadata_discretized.bin\"\n",
    "bin_file = open(db_file_name, \"rb\")\n",
    "metadata = pickle.load(bin_file)\n",
    "bin_file.close()\n",
    "\n",
    "objects_labels = get_objects_labels('object', objects_list=metadata['grasp']['objects'])\n",
    "print(\"objects_labels: \", len(objects_labels), objects_labels)    "
   ]
  },
  {
   "cell_type": "code",
   "execution_count": 5,
   "metadata": {},
   "outputs": [
    {
     "name": "stdout",
     "output_type": "stream",
     "text": [
      "behavior_list:  8 ['grasp', 'pick', 'hold', 'shake', 'lower', 'drop', 'push', 'look']\n",
      "modality_list:  3 ['audio', 'effort', 'force']\n",
      "modality_list_look:  1 ['camera_rgb_image_raw']\n",
      "object_list:  95 [0, 1, 2, 3, 4, 5, 6, 7, 8, 9, 10, 11, 12, 13, 14, 15, 16, 17, 18, 19, 20, 21, 22, 23, 24, 25, 26, 27, 28, 29, 30, 31, 32, 33, 34, 35, 36, 37, 38, 39, 40, 41, 42, 43, 44, 45, 46, 47, 48, 49, 50, 51, 52, 53, 54, 55, 56, 57, 58, 59, 60, 61, 62, 63, 64, 65, 66, 67, 68, 69, 70, 71, 72, 73, 74, 75, 76, 77, 78, 79, 80, 81, 82, 83, 84, 85, 86, 87, 88, 89, 90, 91, 92, 93, 94]\n",
      "trials:  5 [0 1 2 3 4]\n"
     ]
    }
   ],
   "source": [
    "behavior_list = list(robot.keys())\n",
    "print(\"behavior_list: \", len(behavior_list), behavior_list)\n",
    "\n",
    "modality_list = list(robot[behavior_list[0]].keys())\n",
    "print(\"modality_list: \", len(modality_list), modality_list)\n",
    "\n",
    "modality_list_look = list(robot['look'].keys())\n",
    "print(\"modality_list_look: \", len(modality_list_look), modality_list_look)\n",
    "\n",
    "object_list = list(robot[behavior_list[0]][modality_list[0]].keys())\n",
    "print(\"object_list: \", len(object_list), object_list)\n",
    "\n",
    "trials = robot[behavior_list[0]][modality_list[0]][object_list[0]].shape[1]\n",
    "print(\"trials: \", trials, np.arange(trials))"
   ]
  },
  {
   "cell_type": "code",
   "execution_count": 6,
   "metadata": {},
   "outputs": [
    {
     "name": "stdout",
     "output_type": "stream",
     "text": [
      "object_name:  blue-marbles-150g\n",
      "example:  (100,)\n"
     ]
    },
    {
     "data": {
      "image/png": "[encoded data removed]",
      "text/plain": [
       "<Figure size 432x288 with 2 Axes>"
      ]
     },
     "metadata": {
      "needs_background": "light"
     },
     "output_type": "display_data"
    }
   ],
   "source": [
    "behavior = 'shake'\n",
    "modality = 'audio'\n",
    "object_label = 8\n",
    "trial = 0\n",
    "save_plot = False\n",
    "object_name = list(objects_labels.keys())[list(objects_labels.values()).index(object_label)]\n",
    "\n",
    "print(\"object_name: \", object_name)\n",
    "example = robot[behavior][modality][object_label][0][trial]\n",
    "num_of_features = example.shape[-1]\n",
    "print(\"example: \", example.shape)\n",
    "\n",
    "x_values = 10 # temporal bins\n",
    "y_values = num_of_features//x_values\n",
    "\n",
    "print_discretized_data(example, x_values, y_values, robot_name, modality, behavior, object_name, save_plot=save_plot)"
   ]
  },
  {
   "cell_type": "code",
   "execution_count": 7,
   "metadata": {},
   "outputs": [
    {
     "name": "stdout",
     "output_type": "stream",
     "text": [
      "object_name:  blue-marbles-150g\n",
      "example:  (60,)\n"
     ]
    },
    {
     "data": {
      "image/png": "[encoded data removed]",
      "text/plain": [
       "<Figure size 432x288 with 2 Axes>"
      ]
     },
     "metadata": {
      "needs_background": "light"
     },
     "output_type": "display_data"
    }
   ],
   "source": [
    "modality = 'effort'\n",
    "\n",
    "print(\"object_name: \", object_name)\n",
    "example = robot[behavior][modality][object_label][0][trial]\n",
    "num_of_features = example.shape[-1]\n",
    "print(\"example: \", example.shape)\n",
    "\n",
    "y_values = num_of_features//x_values\n",
    "\n",
    "print_discretized_data(example, x_values, y_values, robot_name, modality, behavior, object_name, save_plot=save_plot)"
   ]
  },
  {
   "cell_type": "code",
   "execution_count": 8,
   "metadata": {},
   "outputs": [
    {
     "name": "stdout",
     "output_type": "stream",
     "text": [
      "object_name:  blue-marbles-150g\n",
      "example:  (30,)\n"
     ]
    },
    {
     "data": {
      "image/png": "[encoded data removed]",
      "text/plain": [
       "<Figure size 432x288 with 2 Axes>"
      ]
     },
     "metadata": {
      "needs_background": "light"
     },
     "output_type": "display_data"
    }
   ],
   "source": [
    "modality = 'force'\n",
    "\n",
    "print(\"object_name: \", object_name)\n",
    "example = robot[behavior][modality][object_label][0][trial]\n",
    "num_of_features = example.shape[-1]\n",
    "print(\"example: \", example.shape)\n",
    "\n",
    "y_values = num_of_features//x_values\n",
    "\n",
    "print_discretized_data(example, x_values, y_values, robot_name, modality, behavior, object_name, save_plot=save_plot)"
   ]
  },
  {
   "cell_type": "code",
   "execution_count": null,
   "metadata": {},
   "outputs": [],
   "source": []
  }
 ],
 "metadata": {
  "kernelspec": {
   "display_name": "Python 3",
   "language": "python",
   "name": "python3"
  },
  "language_info": {
   "codemirror_mode": {
    "name": "ipython",
    "version": 3
   },
   "file_extension": ".py",
   "mimetype": "text/x-python",
   "name": "python",
   "nbconvert_exporter": "python",
   "pygments_lexer": "ipython3",
   "version": "3.7.9"
  }
 },
 "nbformat": 4,
 "nbformat_minor": 4
}
